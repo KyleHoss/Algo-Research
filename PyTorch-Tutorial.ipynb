{
 "cells": [
  {
   "cell_type": "code",
   "execution_count": 167,
   "metadata": {},
   "outputs": [],
   "source": [
    "# Import Base Libraries\n",
    "import pandas as pd\n",
    "import numpy as np\n",
    "import matplotlib.pyplot as plt\n",
    "\n",
    "# Import DataSets\n",
    "from sklearn import datasets\n",
    "from sklearn.metrics import accuracy_score\n",
    "\n",
    "# Import Torch Libraries\n",
    "import torch \n",
    "import torch.nn as NN\n",
    "import torch.nn.functional as F"
   ]
  },
  {
   "cell_type": "code",
   "execution_count": 173,
   "metadata": {},
   "outputs": [],
   "source": [
    "# Load Iris Dataset\n",
    "iris_df = datasets.load_iris()\n",
    "\n",
    "# Create Features and Targets\n",
    "X = iris_df.data\n",
    "y = iris_df.target\n",
    "\n",
    "# Split Data into Train and Test\n",
    "from sklearn.model_selection import train_test_split\n",
    "X_train, X_test, y_train, y_test = train_test_split(X, y, test_size=0.3, random_state=0)"
   ]
  },
  {
   "cell_type": "code",
   "execution_count": 178,
   "metadata": {},
   "outputs": [
    {
     "data": {
      "text/plain": [
       "<bound method Module.parameters of ANN_Model(\n",
       "  (fc1): Linear(in_features=4, out_features=8, bias=True)\n",
       "  (fc2): Linear(in_features=8, out_features=32, bias=True)\n",
       "  (out): Linear(in_features=32, out_features=3, bias=True)\n",
       ")>"
      ]
     },
     "execution_count": 178,
     "metadata": {},
     "output_type": "execute_result"
    }
   ],
   "source": [
    "# Convert Features to Float Tensors\n",
    "X_train = torch.FloatTensor(X_train)\n",
    "X_test = torch.FloatTensor(X_test)\n",
    "\n",
    "# Convert Labels to Long Tensors becuase they are just integers.\n",
    "y_train = torch.LongTensor(y_train)\n",
    "y_test = torch.LongTensor(y_test)\n",
    "\n",
    "\n",
    "class ANN_Model(NN.Module):\n",
    "    # Input\n",
    "    def __init__(self, in_features=4, h1=8, h2=32, out_features=3):\n",
    "        super().__init__()\n",
    "        self.fc1 = NN.Linear(in_features, h1)\n",
    "        self.fc2 = NN.Linear(h1, h2)\n",
    "        self.out = NN.Linear(h2, out_features)\n",
    "        # self.softmax = NN.Softmax(dim=1)\n",
    "\n",
    "    def forward(self, x):\n",
    "        x = F.relu(self.fc1(x))\n",
    "        x = F.relu(self.fc2(x))\n",
    "        x = self.out(x)\n",
    "        # x = self.softmax(x)\n",
    "\n",
    "        return x\n",
    "    \n",
    "torch.manual_seed(0)\n",
    "\n",
    "ann_model = ANN_Model()\n",
    "\n",
    "# Set Criterion and Optimizer\n",
    "criterion = NN.CrossEntropyLoss()\n",
    "optimizer = torch.optim.Adam(ann_model.parameters(), lr=0.01)\n",
    "\n",
    "# To show Model Parameters\n",
    "ann_model.parameters"
   ]
  },
  {
   "cell_type": "code",
   "execution_count": 179,
   "metadata": {},
   "outputs": [
    {
     "name": "stdout",
     "output_type": "stream",
     "text": [
      "\t\tANN Model Training\n",
      "--------------------------------------------------\n",
      "Epoch: 0 \t Loss: 1.1436963081359863 \t Train_Accuracy: 0.37142857142857144 \t Test_Accuracy: 0.24444444444444444\n",
      "Epoch: 100 \t Loss: 0.0330037884414196 \t Train_Accuracy: 0.9904761904761905 \t Test_Accuracy: 0.9777777777777777\n",
      "Epoch: 200 \t Loss: 0.02339733950793743 \t Train_Accuracy: 0.9809523809523809 \t Test_Accuracy: 0.9777777777777777\n",
      "Epoch: 300 \t Loss: 0.019138816744089127 \t Train_Accuracy: 1.0 \t Test_Accuracy: 0.9777777777777777\n",
      "Epoch: 400 \t Loss: 0.016649145632982254 \t Train_Accuracy: 1.0 \t Test_Accuracy: 0.9777777777777777\n"
     ]
    }
   ],
   "source": [
    "# Train the Model\n",
    "EPOCHS = 500\n",
    "\n",
    "# Metric Arrays\n",
    "\n",
    "losses = []\n",
    "accuracy = []\n",
    "\n",
    "\n",
    "def model_accuracy(y_pred, y):\n",
    "\n",
    "    correct = 0\n",
    "\n",
    "    for i in range(0, len(y)):\n",
    "        if y_pred[i].argmax().item() == y[i]:\n",
    "            correct += 1\n",
    "    \n",
    "    return correct/len(y)\n",
    "\n",
    "\n",
    "print('\\t\\tANN Model Training')\n",
    "print('-'*50)\n",
    "\n",
    "for i in range(EPOCHS):\n",
    "\n",
    "    # Go forward and get a predition\n",
    "    y_pred = ann_model.forward(X_train)\n",
    "\n",
    "    train_accuracy = model_accuracy(y_pred, y_train)\n",
    "    val_accuracy = model_accuracy(ann_model.forward(X_test), y_test)\n",
    "\n",
    "    accuracy.append(train_accuracy)\n",
    "\n",
    "    # Calculate Loss\n",
    "    loss = criterion(y_pred, y_train)\n",
    "    losses.append(loss.detach().numpy())\n",
    "\n",
    "    if i%100 == 0:\n",
    "        print(f'Epoch: {i} \\t Loss: {loss.item()} \\t Train_Accuracy: {train_accuracy} \\t Test_Accuracy: {val_accuracy}')\n",
    "    \n",
    "    # Zero Gradients\n",
    "    optimizer.zero_grad()\n",
    "\n",
    "    # Calculate Gradients\n",
    "    loss.backward()\n",
    "    \n",
    "    # Update Weights\n",
    "    optimizer.step()"
   ]
  },
  {
   "cell_type": "code",
   "execution_count": 180,
   "metadata": {},
   "outputs": [
    {
     "data": {
      "text/plain": [
       "Text(0.5, 0, 'Epoch')"
      ]
     },
     "execution_count": 180,
     "metadata": {},
     "output_type": "execute_result"
    },
    {
     "data": {
      "image/png": "[encoded data removed]",
      "text/plain": [
       "<Figure size 640x480 with 1 Axes>"
      ]
     },
     "metadata": {},
     "output_type": "display_data"
    }
   ],
   "source": [
    "plt.plot(range(EPOCHS),losses)\n",
    "plt.ylabel('Loss')\n",
    "plt.xlabel('Epoch')"
   ]
  },
  {
   "cell_type": "code",
   "execution_count": 182,
   "metadata": {},
   "outputs": [
    {
     "name": "stdout",
     "output_type": "stream",
     "text": [
      "tensor([[1.7820e-15, 1.6867e-12, 1.0000e+00],\n",
      "        [1.5931e-06, 1.0000e+00, 6.8724e-15],\n",
      "        [1.0000e+00, 4.4825e-08, 1.5414e-44],\n",
      "        [2.7143e-15, 5.3678e-12, 1.0000e+00],\n",
      "        [1.0000e+00, 2.2047e-06, 4.3178e-38],\n",
      "        [1.4068e-19, 1.4218e-16, 1.0000e+00],\n",
      "        [1.0000e+00, 1.2956e-06, 5.5698e-39],\n",
      "        [7.0429e-07, 1.0000e+00, 3.2780e-11],\n",
      "        [1.3910e-06, 1.0000e+00, 1.3674e-09],\n",
      "        [6.0535e-07, 1.0000e+00, 1.8938e-16],\n",
      "        [2.0239e-12, 1.8037e-09, 1.0000e+00],\n",
      "        [5.9838e-07, 1.0000e+00, 1.9096e-12],\n",
      "        [5.1694e-06, 9.9999e-01, 7.9492e-08],\n",
      "        [1.9027e-06, 1.0000e+00, 4.3326e-09],\n",
      "        [6.6634e-06, 9.9999e-01, 2.2486e-06],\n",
      "        [1.0000e+00, 3.8959e-07, 7.6796e-40],\n",
      "        [4.6845e-06, 1.0000e+00, 2.1674e-07],\n",
      "        [1.7238e-05, 9.9998e-01, 3.4785e-06],\n",
      "        [9.9999e-01, 1.3990e-05, 3.1257e-35],\n",
      "        [1.0000e+00, 4.0963e-07, 6.9785e-42],\n",
      "        [6.8533e-12, 9.6944e-09, 1.0000e+00],\n",
      "        [1.3618e-05, 9.9994e-01, 4.9515e-05],\n",
      "        [9.9997e-01, 3.4341e-05, 6.4384e-35],\n",
      "        [9.9998e-01, 1.9858e-05, 1.0579e-33],\n",
      "        [1.7099e-05, 5.3652e-01, 4.6346e-01],\n",
      "        [1.0000e+00, 1.9655e-07, 4.4479e-40],\n",
      "        [9.9997e-01, 3.2892e-05, 1.1523e-36],\n",
      "        [7.1957e-07, 1.0000e+00, 7.3028e-14],\n",
      "        [9.3563e-06, 9.9999e-01, 7.5938e-17],\n",
      "        [9.9998e-01, 2.2155e-05, 4.2167e-36],\n",
      "        [9.1719e-11, 4.7026e-07, 1.0000e+00],\n",
      "        [2.6993e-05, 9.9835e-01, 1.6230e-03],\n",
      "        [1.0000e+00, 1.0480e-06, 1.9364e-39],\n",
      "        [5.8242e-06, 1.4645e-01, 8.5354e-01],\n",
      "        [6.1485e-16, 7.1636e-13, 1.0000e+00],\n",
      "        [5.5670e-06, 9.9999e-01, 1.4958e-09],\n",
      "        [1.0000e+00, 1.0605e-06, 3.4550e-41],\n",
      "        [1.1734e-08, 5.5432e-05, 9.9994e-01],\n",
      "        [1.2999e-06, 1.0000e+00, 1.4498e-11],\n",
      "        [1.3556e-06, 1.0000e+00, 4.3811e-14],\n",
      "        [1.0802e-11, 6.9700e-08, 1.0000e+00],\n",
      "        [1.0000e+00, 2.4722e-06, 5.5595e-37],\n",
      "        [1.3358e-07, 6.5854e-03, 9.9341e-01],\n",
      "        [9.9990e-01, 9.6646e-05, 3.8586e-35],\n",
      "        [1.0000e+00, 3.8139e-07, 3.0281e-41]])\n"
     ]
    }
   ],
   "source": [
    "with torch.no_grad():\n",
    "    y_val = ann_model.forward(X_test).softmax(dim=1)\n",
    "\n",
    "print(y_val)\n"
   ]
  }
 ],
 "metadata": {
  "kernelspec": {
   "display_name": "Kyles-DataScience-Enviorment",
   "language": "python",
   "name": "python3"
  },
  "language_info": {
   "codemirror_mode": {
    "name": "ipython",
    "version": 3
   },
   "file_extension": ".py",
   "mimetype": "text/x-python",
   "name": "python",
   "nbconvert_exporter": "python",
   "pygments_lexer": "ipython3",
   "version": "3.12.2"
  }
 },
 "nbformat": 4,
 "nbformat_minor": 2
}
